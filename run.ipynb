{
 "cells": [
  {
   "cell_type": "code",
   "execution_count": 1,
   "id": "6699cacb-62bd-49a5-84c3-31ab45c4ffb2",
   "metadata": {},
   "outputs": [],
   "source": [
    "import pandas as pd\n",
    "from decimal import Decimal"
   ]
  },
  {
   "cell_type": "markdown",
   "id": "d9a19d09-f082-4686-95d2-82f58ed1823d",
   "metadata": {
    "tags": []
   },
   "source": [
    "### USDC ETH (destakers.pickle) remove_duplicates > to_df\n",
    "- logs of all who destaked from USDc ETH Pool\n",
    "- `destakers`"
   ]
  },
  {
   "cell_type": "code",
   "execution_count": 2,
   "id": "eb5c5e2d-bb9f-4d61-9862-6166a17123ec",
   "metadata": {},
   "outputs": [
    {
     "name": "stdout",
     "output_type": "stream",
     "text": [
      "shape:  (61913, 11)\n",
      "shape:  (53382, 11)\n"
     ]
    }
   ],
   "source": [
    "df = pd.DataFrame(pd.read_pickle('data/destakers.pickle'))\n",
    "print('shape: ',df.shape)\n",
    "df.drop_duplicates(subset=['transactionHash'], inplace=True)\n",
    "df.reset_index(drop=True, inplace=True)\n",
    "print('shape: ',df.shape)\n",
    "\n",
    "df['increased'] = 0 ## decreased = 0\n",
    "df['tokenID'] = df['topics'].apply(lambda x: int(x[1],16))\n",
    "df['amtETH'] = df['data'].apply(lambda x: int(x[66+64:67+64+64],16))\n",
    "df = df[['transactionHash','increased', 'tokenID', 'amtETH']]\n",
    "destakers = df.copy()"
   ]
  },
  {
   "cell_type": "markdown",
   "id": "d8bb9266-8e2e-47b5-b2f8-ee738b5f2de0",
   "metadata": {
    "tags": []
   },
   "source": [
    "### USDC transfers from Uniswap V3 to Users who decresed liquidity\n",
    "- to get user wallets who dec liquidity\n",
    "- `destakers_usdc`"
   ]
  },
  {
   "cell_type": "code",
   "execution_count": 3,
   "id": "1e212d95-2190-4ed1-9209-bf8d9a054291",
   "metadata": {},
   "outputs": [
    {
     "name": "stdout",
     "output_type": "stream",
     "text": [
      "shape:  (61083, 11)\n",
      "shape:  (61077, 11)\n"
     ]
    }
   ],
   "source": [
    "df = pd.DataFrame(pd.read_pickle('data/destakers_usdc.pickle'))\n",
    "print('shape: ',df.shape)\n",
    "df.drop_duplicates(subset=['transactionHash'], inplace=True)\n",
    "df.reset_index(drop=True, inplace=True)\n",
    "print('shape: ',df.shape)\n",
    "\n",
    "# df['increased'] = 0 ## decreased = 0\n",
    "# df['tokenID'] = df['topics'].apply(lambda x: int(x[1],16))\n",
    "# df['amtETH'] = df['data'].apply(lambda x: int(x[66+64:67+64+64],16))\n",
    "# df = df[['transactionHash','increased', 'tokenID', 'amtETH']]\n",
    "destakers_usdc = df.copy()\n",
    "destakers_usdc;"
   ]
  },
  {
   "cell_type": "markdown",
   "id": "2e1a6cab-a064-4ba5-b39d-cd28c2731ded",
   "metadata": {
    "tags": []
   },
   "source": [
    "### USDC ETH (stakers.pickle) remove duplicates > to_df\n",
    "- logs of all who staked to USDC ETH Pool\n",
    "- `stakers`"
   ]
  },
  {
   "cell_type": "code",
   "execution_count": 4,
   "id": "9044cea1-0c3c-4186-8194-1f7e2ff643b0",
   "metadata": {},
   "outputs": [
    {
     "name": "stdout",
     "output_type": "stream",
     "text": [
      "shape:  (64761, 11)\n",
      "shape:  (61500, 11)\n"
     ]
    }
   ],
   "source": [
    "df = pd.DataFrame(pd.read_pickle('data/stakers.pickle'))\n",
    "print('shape: ',df.shape)\n",
    "df.drop_duplicates(subset=['transactionHash'], inplace=True)\n",
    "df.reset_index(drop=True, inplace=True)\n",
    "print('shape: ',df.shape)\n",
    "\n",
    "df['increased'] = 1\n",
    "df['amtETH'] = df['data'].apply(lambda x: int(x[66+64+64:67+64+64+64],16))\n",
    "df = df[['transactionHash','increased', 'amtETH']]\n",
    "stakers = df.copy()\n",
    "stakers;"
   ]
  },
  {
   "cell_type": "markdown",
   "id": "99023f32-2403-4f73-8917-355066ccdb01",
   "metadata": {
    "tags": []
   },
   "source": [
    "### ERC721 Uniswap Positions NFT Transfers\n",
    "- mostly data are transfers when minting, can be used to match txHash and get liquidity_provider address\n",
    "- `uniswap_positions`"
   ]
  },
  {
   "cell_type": "code",
   "execution_count": 5,
   "id": "2cdeea2d-c1a6-4e5e-8f60-6e70915beb03",
   "metadata": {},
   "outputs": [
    {
     "name": "stdout",
     "output_type": "stream",
     "text": [
      "shape:  (320000, 13)\n",
      "shape:  (317862, 13)\n"
     ]
    }
   ],
   "source": [
    "df = pd.DataFrame(pd.read_pickle('data/uniswap_positions.pickle'))\n",
    "df.drop(columns=['gas', 'gasUsed', 'gasPrice', 'tokenName', 'tokenSymbol','blockHash'], inplace=True)\n",
    "print('shape: ',df.shape)\n",
    "df.drop_duplicates(subset=['hash'], inplace=True)\n",
    "df[['blockNumber', 'tokenID']] = df[['blockNumber', 'tokenID']].apply(pd.to_numeric)\n",
    "df.sort_values(by=['tokenID'], inplace=True)\n",
    "df.reset_index(drop=True, inplace=True)\n",
    "df.rename(columns={'hash':'transactionHash'}, inplace=True)\n",
    "print('shape: ',df.shape)"
   ]
  },
  {
   "cell_type": "code",
   "execution_count": 6,
   "id": "08466653-bce5-40ca-81cc-484013585a13",
   "metadata": {},
   "outputs": [],
   "source": [
    "uniswap_positions = df.copy()"
   ]
  },
  {
   "cell_type": "markdown",
   "id": "008e3b5e-a00f-4b5c-ad70-a48af953a78a",
   "metadata": {
    "tags": []
   },
   "source": [
    "### Merge stakers with erc721 transfers\n",
    "- `ledger_staked_sum`"
   ]
  },
  {
   "cell_type": "code",
   "execution_count": 7,
   "id": "8f193bae-4d05-487e-991b-440b78c089f3",
   "metadata": {},
   "outputs": [
    {
     "data": {
      "text/plain": [
       "(42142, 15)"
      ]
     },
     "execution_count": 7,
     "metadata": {},
     "output_type": "execute_result"
    }
   ],
   "source": [
    "df = pd.merge(stakers, uniswap_positions, on='transactionHash')\n",
    "df.shape"
   ]
  },
  {
   "cell_type": "code",
   "execution_count": 8,
   "id": "59ab3a30-bfea-41e0-b962-be1278d64604",
   "metadata": {},
   "outputs": [
    {
     "data": {
      "text/plain": [
       "(22782, 1)"
      ]
     },
     "execution_count": 8,
     "metadata": {},
     "output_type": "execute_result"
    }
   ],
   "source": [
    "ledger = pd.DataFrame(df.groupby('to', sort=False)['amtETH'].sum())\n",
    "ledger = ledger.sort_values(['amtETH'], ascending=False)\n",
    "ledger['amtETH'] = ledger['amtETH'].apply(lambda x: Decimal(x) / Decimal(10 ** 18))\n",
    "ledger_staked_sum = ledger.copy()\n",
    "ledger_staked_sum.shape"
   ]
  },
  {
   "cell_type": "code",
   "execution_count": 9,
   "id": "6282ad27-0321-439f-a018-9a28296f1eed",
   "metadata": {},
   "outputs": [
    {
     "data": {
      "text/html": [
       "<div>\n",
       "<style scoped>\n",
       "    .dataframe tbody tr th:only-of-type {\n",
       "        vertical-align: middle;\n",
       "    }\n",
       "\n",
       "    .dataframe tbody tr th {\n",
       "        vertical-align: top;\n",
       "    }\n",
       "\n",
       "    .dataframe thead th {\n",
       "        text-align: right;\n",
       "    }\n",
       "</style>\n",
       "<table border=\"1\" class=\"dataframe\">\n",
       "  <thead>\n",
       "    <tr style=\"text-align: right;\">\n",
       "      <th></th>\n",
       "      <th>amtETH</th>\n",
       "    </tr>\n",
       "    <tr>\n",
       "      <th>to</th>\n",
       "      <th></th>\n",
       "    </tr>\n",
       "  </thead>\n",
       "  <tbody>\n",
       "    <tr>\n",
       "      <th>0xa57bd00134b2850b2a1c55860c9e9ea100fdd6cf</th>\n",
       "      <td>9897204.544966678708686163</td>\n",
       "    </tr>\n",
       "    <tr>\n",
       "      <th>0x3bb152e1758659663d6ae8377d054be015e191f3</th>\n",
       "      <td>137378.999999528094103971</td>\n",
       "    </tr>\n",
       "    <tr>\n",
       "      <th>0x741aa7cfb2c7bf2a1e7d4da2e3df6a56ca4131f3</th>\n",
       "      <td>96949.557316869609300479</td>\n",
       "    </tr>\n",
       "    <tr>\n",
       "      <th>0x60d552f33b029547e39ff1e82ad26649ccd3b88a</th>\n",
       "      <td>74716.999997607720917658</td>\n",
       "    </tr>\n",
       "    <tr>\n",
       "      <th>0x72a916702bd97923e55d78ea5a3f413dec7f7f85</th>\n",
       "      <td>51170.768772326949945256</td>\n",
       "    </tr>\n",
       "    <tr>\n",
       "      <th>...</th>\n",
       "      <td>...</td>\n",
       "    </tr>\n",
       "    <tr>\n",
       "      <th>0xb6f3f2ba626f418de4902d804959555427366a66</th>\n",
       "      <td>0</td>\n",
       "    </tr>\n",
       "    <tr>\n",
       "      <th>0x317a98cd9ff50f5b396893e4fc2636a34631acac</th>\n",
       "      <td>0</td>\n",
       "    </tr>\n",
       "    <tr>\n",
       "      <th>0xc4ed448e7d7bdd954e943954459017be63584f69</th>\n",
       "      <td>0</td>\n",
       "    </tr>\n",
       "    <tr>\n",
       "      <th>0xb9c749de24b9040588dbbbc5d8f47dc31e6b9913</th>\n",
       "      <td>0</td>\n",
       "    </tr>\n",
       "    <tr>\n",
       "      <th>0x8bc110db7029197c3621bea8092ab1996d5dd7be</th>\n",
       "      <td>0</td>\n",
       "    </tr>\n",
       "  </tbody>\n",
       "</table>\n",
       "<p>22782 rows × 1 columns</p>\n",
       "</div>"
      ],
      "text/plain": [
       "                                                                amtETH\n",
       "to                                                                    \n",
       "0xa57bd00134b2850b2a1c55860c9e9ea100fdd6cf  9897204.544966678708686163\n",
       "0x3bb152e1758659663d6ae8377d054be015e191f3   137378.999999528094103971\n",
       "0x741aa7cfb2c7bf2a1e7d4da2e3df6a56ca4131f3    96949.557316869609300479\n",
       "0x60d552f33b029547e39ff1e82ad26649ccd3b88a    74716.999997607720917658\n",
       "0x72a916702bd97923e55d78ea5a3f413dec7f7f85    51170.768772326949945256\n",
       "...                                                                ...\n",
       "0xb6f3f2ba626f418de4902d804959555427366a66                           0\n",
       "0x317a98cd9ff50f5b396893e4fc2636a34631acac                           0\n",
       "0xc4ed448e7d7bdd954e943954459017be63584f69                           0\n",
       "0xb9c749de24b9040588dbbbc5d8f47dc31e6b9913                           0\n",
       "0x8bc110db7029197c3621bea8092ab1996d5dd7be                           0\n",
       "\n",
       "[22782 rows x 1 columns]"
      ]
     },
     "execution_count": 9,
     "metadata": {},
     "output_type": "execute_result"
    }
   ],
   "source": [
    "ledger_staked_sum"
   ]
  },
  {
   "cell_type": "markdown",
   "id": "2f48a071-755b-4bb1-a0c7-8039f75de7d9",
   "metadata": {
    "tags": []
   },
   "source": [
    "### Merge `destakers` and `destakers_usdc`\n",
    "- `ledger_destaked_sum`"
   ]
  },
  {
   "cell_type": "code",
   "execution_count": 10,
   "id": "2a46e5bf-acbc-4cd8-bdf1-2042bc2de811",
   "metadata": {},
   "outputs": [
    {
     "data": {
      "text/plain": [
       "(37233, 15)"
      ]
     },
     "execution_count": 10,
     "metadata": {},
     "output_type": "execute_result"
    }
   ],
   "source": [
    "df = pd.merge(destakers, destakers_usdc, on='transactionHash')\n",
    "df['wallet'] = df['topics'].apply(lambda x: '0x'+ x[2][-40:])\n",
    "df.shape"
   ]
  },
  {
   "cell_type": "code",
   "execution_count": 11,
   "id": "2c50c85c-c8f6-4edc-8c09-9a994e068a55",
   "metadata": {},
   "outputs": [
    {
     "data": {
      "text/plain": [
       "(10416, 1)"
      ]
     },
     "execution_count": 11,
     "metadata": {},
     "output_type": "execute_result"
    }
   ],
   "source": [
    "ledger = pd.DataFrame(df.groupby('wallet', sort=False)['amtETH'].sum())\n",
    "ledger = ledger.sort_values(['amtETH'], ascending=False)\n",
    "ledger['amtETH'] = ledger['amtETH'].apply(lambda x: Decimal(-x) / Decimal(10 ** 18))\n",
    "ledger_destaked_sum = ledger.copy()\n",
    "ledger_destaked_sum.shape"
   ]
  },
  {
   "cell_type": "code",
   "execution_count": 12,
   "id": "98b56ad3-2633-435f-81ce-ed4cf4053397",
   "metadata": {},
   "outputs": [
    {
     "data": {
      "text/html": [
       "<div>\n",
       "<style scoped>\n",
       "    .dataframe tbody tr th:only-of-type {\n",
       "        vertical-align: middle;\n",
       "    }\n",
       "\n",
       "    .dataframe tbody tr th {\n",
       "        vertical-align: top;\n",
       "    }\n",
       "\n",
       "    .dataframe thead th {\n",
       "        text-align: right;\n",
       "    }\n",
       "</style>\n",
       "<table border=\"1\" class=\"dataframe\">\n",
       "  <thead>\n",
       "    <tr style=\"text-align: right;\">\n",
       "      <th></th>\n",
       "      <th>amtETH</th>\n",
       "    </tr>\n",
       "    <tr>\n",
       "      <th>wallet</th>\n",
       "      <th></th>\n",
       "    </tr>\n",
       "  </thead>\n",
       "  <tbody>\n",
       "    <tr>\n",
       "      <th>0x3bb152e1758659663d6ae8377d054be015e191f3</th>\n",
       "      <td>-91300.912410926393479572</td>\n",
       "    </tr>\n",
       "    <tr>\n",
       "      <th>0x60d552f33b029547e39ff1e82ad26649ccd3b88a</th>\n",
       "      <td>-77232.733569159578689477</td>\n",
       "    </tr>\n",
       "    <tr>\n",
       "      <th>0x741aa7cfb2c7bf2a1e7d4da2e3df6a56ca4131f3</th>\n",
       "      <td>-73893.765481660425117379</td>\n",
       "    </tr>\n",
       "    <tr>\n",
       "      <th>0xec890fca5c79a443f53849bc658947a99b653a4c</th>\n",
       "      <td>-41549.607126635859691446</td>\n",
       "    </tr>\n",
       "    <tr>\n",
       "      <th>0x72a916702bd97923e55d78ea5a3f413dec7f7f85</th>\n",
       "      <td>-35105.637262920545107928</td>\n",
       "    </tr>\n",
       "    <tr>\n",
       "      <th>...</th>\n",
       "      <td>...</td>\n",
       "    </tr>\n",
       "    <tr>\n",
       "      <th>0xd361cc196f33534ed8176ab1f189983265212fd0</th>\n",
       "      <td>0</td>\n",
       "    </tr>\n",
       "    <tr>\n",
       "      <th>0x1bad528c8feea7c9bd0aa40944d655c50ac6ae2d</th>\n",
       "      <td>0</td>\n",
       "    </tr>\n",
       "    <tr>\n",
       "      <th>0x80b678b5d1af00935716f9652b7e1448889876ba</th>\n",
       "      <td>0</td>\n",
       "    </tr>\n",
       "    <tr>\n",
       "      <th>0x63f98f820626bdfa88b4b19b07209e0dde1ca72a</th>\n",
       "      <td>0</td>\n",
       "    </tr>\n",
       "    <tr>\n",
       "      <th>0x800a2a3d47a15d16524b4fe6ffbad5bf46dd8c4c</th>\n",
       "      <td>0</td>\n",
       "    </tr>\n",
       "  </tbody>\n",
       "</table>\n",
       "<p>10416 rows × 1 columns</p>\n",
       "</div>"
      ],
      "text/plain": [
       "                                                               amtETH\n",
       "wallet                                                               \n",
       "0x3bb152e1758659663d6ae8377d054be015e191f3  -91300.912410926393479572\n",
       "0x60d552f33b029547e39ff1e82ad26649ccd3b88a  -77232.733569159578689477\n",
       "0x741aa7cfb2c7bf2a1e7d4da2e3df6a56ca4131f3  -73893.765481660425117379\n",
       "0xec890fca5c79a443f53849bc658947a99b653a4c  -41549.607126635859691446\n",
       "0x72a916702bd97923e55d78ea5a3f413dec7f7f85  -35105.637262920545107928\n",
       "...                                                               ...\n",
       "0xd361cc196f33534ed8176ab1f189983265212fd0                          0\n",
       "0x1bad528c8feea7c9bd0aa40944d655c50ac6ae2d                          0\n",
       "0x80b678b5d1af00935716f9652b7e1448889876ba                          0\n",
       "0x63f98f820626bdfa88b4b19b07209e0dde1ca72a                          0\n",
       "0x800a2a3d47a15d16524b4fe6ffbad5bf46dd8c4c                          0\n",
       "\n",
       "[10416 rows x 1 columns]"
      ]
     },
     "execution_count": 12,
     "metadata": {},
     "output_type": "execute_result"
    }
   ],
   "source": [
    "ledger_destaked_sum"
   ]
  },
  {
   "cell_type": "markdown",
   "id": "d04f36da-4419-4625-95ab-b5d5c33af94e",
   "metadata": {},
   "source": [
    "### Merge both ledger"
   ]
  },
  {
   "cell_type": "code",
   "execution_count": 41,
   "id": "4267309a-890f-48e4-a4bc-327df03b727b",
   "metadata": {},
   "outputs": [],
   "source": [
    "d_staked = dict(zip(ledger_staked_sum.index, ledger_staked_sum.amtETH))"
   ]
  },
  {
   "cell_type": "code",
   "execution_count": 42,
   "id": "3f7558a2-13f4-45c9-aa6c-294c1bfc92a3",
   "metadata": {},
   "outputs": [
    {
     "data": {
      "text/plain": [
       "22782"
      ]
     },
     "execution_count": 42,
     "metadata": {},
     "output_type": "execute_result"
    }
   ],
   "source": [
    "len(d_staked)"
   ]
  },
  {
   "cell_type": "code",
   "execution_count": 43,
   "id": "a6b79703-5dcd-413f-9bb2-6871f8ac05d2",
   "metadata": {},
   "outputs": [],
   "source": [
    "d_destaked = dict(zip(ledger_destaked_sum.index, ledger_destaked_sum.amtETH))"
   ]
  },
  {
   "cell_type": "code",
   "execution_count": 44,
   "id": "34f5d4bb-238a-437c-ae00-f3eeb5f9e6a3",
   "metadata": {},
   "outputs": [
    {
     "data": {
      "text/plain": [
       "10416"
      ]
     },
     "execution_count": 44,
     "metadata": {},
     "output_type": "execute_result"
    }
   ],
   "source": [
    "len(d_destaked)"
   ]
  },
  {
   "cell_type": "code",
   "execution_count": 53,
   "id": "2e2db43b-6706-4169-9b8c-fe78b23397f0",
   "metadata": {},
   "outputs": [],
   "source": [
    "for key, value in d_destaked.items():\n",
    "    if key in d_staked.keys():\n",
    "        d_staked[key] = d_staked[key] + value\n",
    "    else:\n",
    "        d_staked[key] = value\n",
    "    "
   ]
  },
  {
   "cell_type": "code",
   "execution_count": 54,
   "id": "cea0be75-dfe0-4485-a78d-6aadd33df9b1",
   "metadata": {},
   "outputs": [
    {
     "data": {
      "text/plain": [
       "23121"
      ]
     },
     "execution_count": 54,
     "metadata": {},
     "output_type": "execute_result"
    }
   ],
   "source": [
    "len(d_staked)"
   ]
  },
  {
   "cell_type": "code",
   "execution_count": 61,
   "id": "cb2a0967-1105-4c1d-8357-0422cdd91ddd",
   "metadata": {},
   "outputs": [],
   "source": [
    "df = pd.DataFrame.from_dict(d_staked, orient = 'index')"
   ]
  },
  {
   "cell_type": "code",
   "execution_count": 63,
   "id": "345f884d-3c24-4d51-a353-4a047154e76e",
   "metadata": {},
   "outputs": [],
   "source": [
    "df.columns = ['amtETH']"
   ]
  },
  {
   "cell_type": "code",
   "execution_count": 64,
   "id": "1c5a1ff1-f35d-435f-b827-e2a22aa95277",
   "metadata": {},
   "outputs": [
    {
     "data": {
      "text/html": [
       "<div>\n",
       "<style scoped>\n",
       "    .dataframe tbody tr th:only-of-type {\n",
       "        vertical-align: middle;\n",
       "    }\n",
       "\n",
       "    .dataframe tbody tr th {\n",
       "        vertical-align: top;\n",
       "    }\n",
       "\n",
       "    .dataframe thead th {\n",
       "        text-align: right;\n",
       "    }\n",
       "</style>\n",
       "<table border=\"1\" class=\"dataframe\">\n",
       "  <thead>\n",
       "    <tr style=\"text-align: right;\">\n",
       "      <th></th>\n",
       "      <th>amtETH</th>\n",
       "    </tr>\n",
       "  </thead>\n",
       "  <tbody>\n",
       "    <tr>\n",
       "      <th>0xa57bd00134b2850b2a1c55860c9e9ea100fdd6cf</th>\n",
       "      <td>9897204.544966678708686163</td>\n",
       "    </tr>\n",
       "    <tr>\n",
       "      <th>0x9799b475dec92bd99bbdd943013325c36157f383</th>\n",
       "      <td>30063.935564724452090698</td>\n",
       "    </tr>\n",
       "    <tr>\n",
       "      <th>0xb136f3756028dc75de4dd24bdc0c2f0270e18b3c</th>\n",
       "      <td>18003.999999999999950388</td>\n",
       "    </tr>\n",
       "    <tr>\n",
       "      <th>0xdc848a72842d943b87926ae27ee05f1e949ec931</th>\n",
       "      <td>8996.80150283464141695</td>\n",
       "    </tr>\n",
       "    <tr>\n",
       "      <th>0x763bf487d386afbf9c476e047d37b74636b9e831</th>\n",
       "      <td>7085.429999999999999191</td>\n",
       "    </tr>\n",
       "    <tr>\n",
       "      <th>...</th>\n",
       "      <td>...</td>\n",
       "    </tr>\n",
       "    <tr>\n",
       "      <th>0x46a0b4fa58141aba23185e79f7047a7dfd0ff100</th>\n",
       "      <td>-34805.159289152782821128</td>\n",
       "    </tr>\n",
       "    <tr>\n",
       "      <th>0x3bb152e1758659663d6ae8377d054be015e191f3</th>\n",
       "      <td>-45222.824822324692855173</td>\n",
       "    </tr>\n",
       "    <tr>\n",
       "      <th>0x741aa7cfb2c7bf2a1e7d4da2e3df6a56ca4131f3</th>\n",
       "      <td>-50837.973646451240934279</td>\n",
       "    </tr>\n",
       "    <tr>\n",
       "      <th>0x60d552f33b029547e39ff1e82ad26649ccd3b88a</th>\n",
       "      <td>-79748.467140711436461296</td>\n",
       "    </tr>\n",
       "    <tr>\n",
       "      <th>0xec890fca5c79a443f53849bc658947a99b653a4c</th>\n",
       "      <td>-83097.996508601895412577</td>\n",
       "    </tr>\n",
       "  </tbody>\n",
       "</table>\n",
       "<p>23121 rows × 1 columns</p>\n",
       "</div>"
      ],
      "text/plain": [
       "                                                                amtETH\n",
       "0xa57bd00134b2850b2a1c55860c9e9ea100fdd6cf  9897204.544966678708686163\n",
       "0x9799b475dec92bd99bbdd943013325c36157f383    30063.935564724452090698\n",
       "0xb136f3756028dc75de4dd24bdc0c2f0270e18b3c    18003.999999999999950388\n",
       "0xdc848a72842d943b87926ae27ee05f1e949ec931      8996.80150283464141695\n",
       "0x763bf487d386afbf9c476e047d37b74636b9e831     7085.429999999999999191\n",
       "...                                                                ...\n",
       "0x46a0b4fa58141aba23185e79f7047a7dfd0ff100   -34805.159289152782821128\n",
       "0x3bb152e1758659663d6ae8377d054be015e191f3   -45222.824822324692855173\n",
       "0x741aa7cfb2c7bf2a1e7d4da2e3df6a56ca4131f3   -50837.973646451240934279\n",
       "0x60d552f33b029547e39ff1e82ad26649ccd3b88a   -79748.467140711436461296\n",
       "0xec890fca5c79a443f53849bc658947a99b653a4c   -83097.996508601895412577\n",
       "\n",
       "[23121 rows x 1 columns]"
      ]
     },
     "execution_count": 64,
     "metadata": {},
     "output_type": "execute_result"
    }
   ],
   "source": [
    "df.sort_values(['amtETH'], ascending=False)"
   ]
  },
  {
   "cell_type": "code",
   "execution_count": null,
   "id": "c7ea283c-161c-438a-8156-da5a6cf26dd6",
   "metadata": {},
   "outputs": [],
   "source": []
  }
 ],
 "metadata": {
  "kernelspec": {
   "display_name": "Python 3 (ipykernel)",
   "language": "python",
   "name": "python3"
  },
  "language_info": {
   "codemirror_mode": {
    "name": "ipython",
    "version": 3
   },
   "file_extension": ".py",
   "mimetype": "text/x-python",
   "name": "python",
   "nbconvert_exporter": "python",
   "pygments_lexer": "ipython3",
   "version": "3.8.10"
  }
 },
 "nbformat": 4,
 "nbformat_minor": 5
}
